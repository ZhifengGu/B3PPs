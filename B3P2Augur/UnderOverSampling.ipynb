{
 "cells": [
  {
   "cell_type": "code",
   "execution_count": 1,
   "metadata": {},
   "outputs": [],
   "source": [
    "from sklearn.datasets import load_iris\n",
    "from sklearn.datasets import load_breast_cancer\n",
    "from collections import Counter\n",
    "\n",
    "# from imblearn.over_sampling import RandomOverSampler\n",
    "# from imblearn.over_sampling import SMOTE\n",
    "# from imblearn.over_sampling import SMOTEN\n",
    "# from imblearn.over_sampling import SMOTENC\n",
    "from imblearn.over_sampling import BorderlineSMOTE\n",
    "# from imblearn.over_sampling import SVMSMOTE\n",
    "# from imblearn.over_sampling import KMeansSMOTE\n",
    "# from imblearn.over_sampling import ADASYN\n",
    "\n",
    "from imblearn.under_sampling import RandomUnderSampler\n",
    "# from imblearn.under_sampling import ClusterCentroids\n",
    "# from imblearn.under_sampling import NearMiss\n",
    "# from imblearn.under_sampling import EditedNearestNeighbours\n",
    "# from imblearn.under_sampling import RepeatedEditedNearestNeighbours\n",
    "# from imblearn.under_sampling import AllKNN\n",
    "# from imblearn.under_sampling import CondensedNearestNeighbour\n",
    "# from imblearn.under_sampling import OneSidedSelection\n",
    "# from imblearn.under_sampling import NeighbourhoodCleaningRule\n",
    "# from imblearn.under_sampling import InstanceHardnessThreshold\n",
    "\n",
    "# from imblearn.combine import SMOTEENN\n",
    "# from imblearn.combine import SMOTETomek\n",
    "\n",
    "# from sklearn.tree import DecisionTreeClassifier\n",
    "# from sklearn.model_selection import train_test_split\n",
    "# from sklearn.metrics import confusion_matrix\n",
    "\n",
    "# from sklearn.ensemble import BaggingClassifier\n",
    "# from imblearn.ensemble import BalancedBaggingClassifier\n",
    "# from imblearn.ensemble import RUSBoostClassifier\n",
    "# from imblearn.ensemble import EasyEnsembleClassifier\n",
    "# from imblearn.ensemble import BalancedRandomForestClassifier\n",
    "\n",
    "import pandas as pd"
   ]
  },
  {
   "cell_type": "code",
   "execution_count": 2,
   "metadata": {},
   "outputs": [],
   "source": [
    "f = pd.read_csv('Training.csv')\n",
    "X_resampled = f.iloc[:, 1:].values\n",
    "y_resampled = f.iloc[:, 0].values"
   ]
  },
  {
   "cell_type": "code",
   "execution_count": 3,
   "metadata": {},
   "outputs": [],
   "source": [
    "number = 215\n",
    "rus = RandomUnderSampler(sampling_strategy={0: number}, random_state=42)\n",
    "X_resampled, y_resampled = rus.fit_resample(X_resampled, y_resampled)\n",
    "\n",
    "# number = 376\n",
    "# cc = ClusterCentroids(sampling_strategy={0: number},random_state=0)\n",
    "# X_resampled, y_resampled = cc.fit_resample(X_resampled, y_resampled)\n",
    "\n",
    "\n",
    "# oss = OneSidedSelection(random_state=42)\n",
    "# X_resampled, y_resampled = oss.fit_resample(X_resampled, y_resampled)\n",
    "\n",
    "\n",
    "\n",
    "\n",
    "# number = 273\n",
    "# cnn = CondensedNearestNeighbour(random_state=42)\n",
    "# X_resampled, y_resampled = cnn.fit_resample(X_resampled, y_resampled)\n",
    "# number = 273\n",
    "# rus = NearMiss(sampling_strategy={0: number}, version=3)\n",
    "# X_resampled, y_resampled = rus.fit_resample(X, y)"
   ]
  },
  {
   "cell_type": "code",
   "execution_count": 4,
   "metadata": {},
   "outputs": [],
   "source": [
    "# smote = SMOTE(random_state=42)\n",
    "# X_resampled, y_resampled = smote.fit_resample(X_resampled, y_resampled)\n",
    "\n",
    "# adasyn = ADASYN()\n",
    "# X_resampled, y_resampled = adasyn.fit_resample(X_resampled, y_resampled)\n",
    "\n",
    "borderline_smote = BorderlineSMOTE()\n",
    "X_resampled, y_resampled = borderline_smote.fit_resample(X_resampled, y_resampled)"
   ]
  },
  {
   "cell_type": "code",
   "execution_count": 5,
   "metadata": {},
   "outputs": [],
   "source": [
    "pd.concat([pd.DataFrame(y_resampled), pd.DataFrame(X_resampled)], axis=1).to_csv('resampled.csv', header=False, index=False)"
   ]
  }
 ],
 "metadata": {
  "kernelspec": {
   "display_name": "iLearnPlus",
   "language": "python",
   "name": "python3"
  },
  "language_info": {
   "codemirror_mode": {
    "name": "ipython",
    "version": 3
   },
   "file_extension": ".py",
   "mimetype": "text/x-python",
   "name": "python",
   "nbconvert_exporter": "python",
   "pygments_lexer": "ipython3",
   "version": "3.9.16"
  },
  "orig_nbformat": 4
 },
 "nbformat": 4,
 "nbformat_minor": 2
}
